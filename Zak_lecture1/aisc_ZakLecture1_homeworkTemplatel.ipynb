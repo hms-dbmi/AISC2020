{
 "cells": [
  {
   "cell_type": "code",
   "execution_count": null,
   "metadata": {
    "collapsed": true
   },
   "outputs": [],
   "source": [
    "#fill this in\n",
    "#Your Name: \n",
    "#URL of Notebook: "
   ]
  },
  {
   "cell_type": "markdown",
   "metadata": {},
   "source": [
    "Part 1 of this template is purely informative and will not be graded. However, you may find it helpful to go through. "
   ]
  },
  {
   "cell_type": "markdown",
   "metadata": {},
   "source": [
    "# Part 1. Using R to navigate the National Center for Biotechnology Information (ungraded)"
   ]
  },
  {
   "cell_type": "markdown",
   "metadata": {},
   "source": [
    "In this section, we will use the R package rentrez [1] to navigate the vast information\n",
    "found on the National Center for Biotechnology Information (NCBI) [2] online platform. To\n",
    "exemplify the functionality of this package we will use the gene MC4R (melanocortin 4 receptor).\n",
    "Defects in this gene lead to autosomal dominant obesity.\n",
    "    \n",
    "References:\n",
    "\n",
    "[1] https://cran.r-project.org/web/packages/rentrez/index.html\n",
    "\n",
    "[2] https://www.ncbi.nlm.nih.gov/\n",
    "\n",
    "[3] https://www.ncbi.nlm.nih.gov/clinvar/intro/"
   ]
  },
  {
   "cell_type": "markdown",
   "metadata": {},
   "source": [
    "1a) Install and load packages: we want to use the rentrez package in this case. "
   ]
  },
  {
   "cell_type": "code",
   "execution_count": null,
   "metadata": {},
   "outputs": [],
   "source": [
    "install.packages(\"yourpackagehere\", repos=\"http://cran.us.r-project.org\")\n",
    "library(yourpackagehere)\n"
   ]
  },
  {
   "cell_type": "code",
   "execution_count": 3,
   "metadata": {
    "collapsed": true
   },
   "outputs": [],
   "source": [
    "library(rentrez)"
   ]
  },
  {
   "cell_type": "markdown",
   "metadata": {},
   "source": [
    "1b) What is the gene ID for the MC4R gene? This page may be helpful: https://www.ncbi.nlm.nih.gov/gene/"
   ]
  },
  {
   "cell_type": "code",
   "execution_count": 5,
   "metadata": {
    "collapsed": true
   },
   "outputs": [],
   "source": [
    "geneid <- 4161"
   ]
  },
  {
   "cell_type": "markdown",
   "metadata": {},
   "source": [
    "1c) Use the function entrez_link to obtain links to datasets related to MC4R. Check if ClinVar\n",
    "[3] is part of your result. ClinVar is a freely accessible dataset linking human variations with\n",
    "phenotypes while providing supporting evidence."
   ]
  },
  {
   "cell_type": "code",
   "execution_count": 6,
   "metadata": {},
   "outputs": [],
   "source": [
    "#there are three paramaters that we need to pass to the entrez_link function. \n",
    "#id = which gene are we interested in? We specified this in 1c\n",
    "#dbfrom = what database does the ID that we pass belong to? NCBI contains many databases...PubMed, Nucleotide, Gene, SNP, etc. We should input the name of the relevant database as a string. \n",
    "#db = since we're interested in which datasets link to MC4R, we should set this to 'all'\n",
    "\n",
    "link_list = entrez_link(dbfrom = \"gene\", id = geneid, db = \"all\")\n"
   ]
  },
  {
   "cell_type": "code",
   "execution_count": 7,
   "metadata": {},
   "outputs": [
    {
     "data": {
      "text/plain": [
       "elink result with information from 48 databases:\n",
       " [1] gene_bioconcepts               gene_biosystems               \n",
       " [3] gene_biosystems_all            gene_clinvar                  \n",
       " [5] gene_dbvar                     gene_genome                   \n",
       " [7] gene_gtr                       gene_homologene               \n",
       " [9] gene_pcassay_alltarget_list    gene_pcassay_alltarget_summary\n",
       "[11] gene_pcassay_rnai              gene_pcassay_target           \n",
       "[13] gene_probe                     gene_snp                      \n",
       "[15] gene_bioproject                gene_cdd                      \n",
       "[17] gene_gene_h3k4me3              gene_gene_neighbors           \n",
       "[19] gene_genome2                   gene_geoprofiles              \n",
       "[21] gene_nuccore                   gene_nuccore_mgc              \n",
       "[23] gene_nuccore_pos               gene_nuccore_refseqrna        \n",
       "[25] gene_nucest_clust              gene_nucleotide               \n",
       "[27] gene_nucleotide_clust          gene_nucleotide_mgc           \n",
       "[29] gene_nucleotide_mgc_url        gene_nucleotide_pos           \n",
       "[31] gene_omim                      gene_pcassay_proteintarget    \n",
       "[33] gene_pccompound                gene_pcsubstance              \n",
       "[35] gene_pmc                       gene_pmc_nucleotide           \n",
       "[37] gene_protein                   gene_protein_refseq           \n",
       "[39] gene_pubmed                    gene_pubmed_all               \n",
       "[41] gene_pubmed_citedinomim        gene_pubmed_pmc_nucleotide    \n",
       "[43] gene_pubmed_rif                gene_snp_geneview             \n",
       "[45] gene_sparcle                   gene_taxonomy                 \n",
       "[47] gene_unigene                   gene_varview                  "
      ]
     },
     "metadata": {},
     "output_type": "display_data"
    }
   ],
   "source": [
    "#let's view the list of links, there should be 54 entries. Do these look reasonable, given what we searched for? Is clinvar present? \n",
    "link_list$links"
   ]
  },
  {
   "cell_type": "markdown",
   "metadata": {},
   "source": [
    "1d) We can use entrez_db_summary and entrez_fetch functions to get more specific information. "
   ]
  },
  {
   "cell_type": "code",
   "execution_count": 37,
   "metadata": {},
   "outputs": [
    {
     "data": {
      "text/plain": [
       " DbName: omim\n",
       " MenuName: OMIM\n",
       " Description: OMIM records\n",
       " DbBuild: Build190219-0305.1\n",
       " Count: 26150\n",
       " LastUpdate: 2019/02/19 03:33 "
      ]
     },
     "metadata": {},
     "output_type": "display_data"
    }
   ],
   "source": [
    "entrez_db_summary(db = \"omim\")"
   ]
  },
  {
   "cell_type": "code",
   "execution_count": 34,
   "metadata": {},
   "outputs": [
    {
     "data": {
      "text/plain": [
       " DbName: clinvar\n",
       " MenuName: ClinVar\n",
       " Description: ClinVar Database\n",
       " DbBuild: Build190211-1000.2\n",
       " Count: 498327\n",
       " LastUpdate: 2019/02/11 13:07 "
      ]
     },
     "metadata": {},
     "output_type": "display_data"
    }
   ],
   "source": [
    "entrez_db_summary(db = \"clinvar\")"
   ]
  },
  {
   "cell_type": "code",
   "execution_count": 35,
   "metadata": {},
   "outputs": [
    {
     "data": {
      "text/plain": [
       "[1] \"601665\" \"155541\""
      ]
     },
     "metadata": {},
     "output_type": "display_data"
    }
   ],
   "source": [
    "# retrieve data\n",
    "omim <- link_list$links$gene_omim\n",
    "omim"
   ]
  },
  {
   "cell_type": "code",
   "execution_count": 64,
   "metadata": {},
   "outputs": [
    {
     "data": {
      "text/plain": [
       "esummary result with 4 items:\n",
       "[1] uid       oid       title     alttitles"
      ]
     },
     "metadata": {},
     "output_type": "display_data"
    }
   ],
   "source": [
    "#we can get an overview of what entries there are\n",
    "entries = entrez_summary(db=\"omim\", id=omim[1])\n",
    "entries"
   ]
  },
  {
   "cell_type": "code",
   "execution_count": 68,
   "metadata": {},
   "outputs": [
    {
     "data": {
      "text/plain": [
       "$uid\n",
       "[1] \"601665\"\n"
      ]
     },
     "metadata": {},
     "output_type": "display_data"
    }
   ],
   "source": [
    "entries[1]"
   ]
  },
  {
   "cell_type": "code",
   "execution_count": 71,
   "metadata": {},
   "outputs": [
    {
     "data": {
      "text/plain": [
       "[1] \"the entry with UID 601665 has the title: OBESITY\""
      ]
     },
     "metadata": {},
     "output_type": "display_data"
    }
   ],
   "source": [
    "paste(\"the entry with UID\" , entries[1][[1]] , \"has the title:\" , entries[[3]][1])"
   ]
  }
 ],
 "metadata": {
  "kernelspec": {
   "display_name": "R",
   "language": "R",
   "name": "ir"
  },
  "language_info": {
   "codemirror_mode": "r",
   "file_extension": ".r",
   "mimetype": "text/x-r-source",
   "name": "R",
   "pygments_lexer": "r",
   "version": "3.6.1"
  }
 },
 "nbformat": 4,
 "nbformat_minor": 1
}
