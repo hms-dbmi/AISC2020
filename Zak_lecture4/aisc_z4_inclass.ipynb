{
 "cells": [
  {
   "cell_type": "markdown",
   "metadata": {},
   "source": [
    "# 1000 Genomes Single Chromosome PCA Example\n",
    "\n",
    "*(In-class assignment extracted from: http://bwlewis.github.io/1000_genomes_examples/PCA.html)*\n",
    "\n",
    "This example walks through the computation of principal components (PCA) of genomic variant data across one chromosome from 2,504 people from the 1000 genomes project1. The example projects all of the variant data for one chromosome into a three-dimensional subspace, and then plots the result. I think the example is popular perhaps because it’s very effective at clustering people by ancestry. It’s often used to illustrate “big data” analysis in genomics, even though the data are not particularly big. The point of this example is not to say that PCA on genomic variants is profound, but rather that it’s easy.\n",
    "\n",
    "This step by step exercise will give you a sense of how populations from different continents of origin can distinguished by a small numnber of variants. Even though we share 99% of our genome, there are sufficient population diffences to allow a simple PCA to demonstrate the difference. However the vast majority of these variants are likely not biologically or medically informative. **Note this is just using variants from a single chromosome**\n",
    "\n",
    "The example uses:\n",
    "\n",
    "- a very simple C parsing program to efficiently read variant data into an R sparse matrix\n",
    "- the irlba package to efficiently compute principal components\n",
    "- the threejs package to visualize the result\n",
    "\n",
    "## Reading variant data into an R sparse matrix\n",
    "This step assumes that you’ve downloaded and compiled the simple VCF parser and downloaded at least the chromosome 20 and phenotype data files from the 1000 genomes project. Run this code directly from the terminal."
   ]
  },
  {
   "cell_type": "code",
   "execution_count": null,
   "metadata": {
    "collapsed": true
   },
   "outputs": [],
   "source": []
  },
  {
   "cell_type": "code",
   "execution_count": null,
   "metadata": {
    "collapsed": true
   },
   "outputs": [],
   "source": [
    "# 1000 genomes example variant data file (chromosome 20)\n",
    "wget ftp://ftp-trace.ncbi.nih.gov/1000genomes/ftp/release/20130502/ALL.chr20.phase3_shapeit2_mvncall_integrated_v5a.20130502.genotypes.vcf.gz\n",
    "\n",
    "# 1000 genomes phenotype data file\n",
    "wget ftp://ftp-trace.ncbi.nih.gov/1000genomes/ftp/release/20130502/integrated_call_samples.20130502.ALL.ped\n",
    "\n",
    "# Simple but fast parser program (after compilation you'll have a program called a.out)\n",
    "wget https://raw.githubusercontent.com/bwlewis/1000_genomes_examples/master/parse.c\n",
    "cc -O2 parse.c"
   ]
  },
  {
   "cell_type": "markdown",
   "metadata": {},
   "source": [
    "- We can use R alone to read and parse the VCF file, it would just take a while longer.\n",
    "- All the remaining steps in this example run from R. "
   ]
  },
  {
   "cell_type": "markdown",
   "metadata": {},
   "source": [
    "## R packages installation"
   ]
  },
  {
   "cell_type": "code",
   "execution_count": null,
   "metadata": {
    "collapsed": true
   },
   "outputs": [],
   "source": [
    "# R library directory\n",
    "R.home(component = 'lib')\n",
    "# system default R libPaths\n",
    ".libPaths()"
   ]
  },
  {
   "cell_type": "code",
   "execution_count": null,
   "metadata": {
    "collapsed": true
   },
   "outputs": [],
   "source": [
    "# Create a directory for user installed libraries under the user's home directory\n",
    "# In SageMaker Jupyter Notebook environments, the `~/SageMaker` directory is persistent across restarts\n",
    "baseDir = file.path(path.expand('~'), 'SageMaker')\n",
    "libSubDir = 'lib'\n",
    "userLibDir = file.path(baseDir, libSubDir)\n",
    "\n",
    "#dir.create(userLibDir, showWarnings = FALSE)"
   ]
  },
  {
   "cell_type": "code",
   "execution_count": null,
   "metadata": {
    "collapsed": true
   },
   "outputs": [],
   "source": [
    "# add user lib directory to libPaths - prioritizes user installed libraries\n",
    ".libPaths(c(userLibDir, .libPaths()))"
   ]
  },
  {
   "cell_type": "code",
   "execution_count": null,
   "metadata": {
    "collapsed": true
   },
   "outputs": [],
   "source": [
    "#install.packages(\"Matrix\",repos=\"http://cran.us.r-project.org\", lib=userLibDir)\n",
    "#install.packages(\"irlba\", repos=\"http://cran.us.r-project.org\", lib=userLibDir)\n",
    "#install.packages(\"threejs\", repos=\"http://cran.us.r-project.org\", lib=userLibDir)\n",
    "library(\"Matrix\")\n",
    "library(\"irlba\")\n",
    "library(\"threejs\")"
   ]
  },
  {
   "cell_type": "markdown",
   "metadata": {},
   "source": [
    "Let’s read the variant data for chromosome 20 into an R sparse matrix. Note that we only care about the variant number and sample (person) number in this exercise and ignore everything else. Set the working directory to the one where you have downloaded the data. "
   ]
  },
  {
   "cell_type": "code",
   "execution_count": null,
   "metadata": {
    "collapsed": true
   },
   "outputs": [],
   "source": [
    "# Use “setwd()” to make your working directory the same as the location of your \n",
    "# downloaded files\n",
    "# For example: setwd(\"/home/ec2-user/SageMaker/\")\n",
    "# You can check the location of your downloaded files on the Terminal by typing \n",
    "# ...$ pwd\n",
    "# right after the steps in the handout that walked you through the file downloads\n",
    "setwd(\"/home/ec2-user/SageMaker/\")"
   ]
  },
  {
   "cell_type": "code",
   "execution_count": null,
   "metadata": {
    "collapsed": true
   },
   "outputs": [],
   "source": [
    "# This sends an instruction to the terminal. Understanding how this command works\n",
    "# is not part of the R material for this class.\n",
    "p = pipe(\"zcat ALL.chr20.phase3_shapeit2_mvncall_integrated_v5a.20130502.genotypes.vcf.gz  | sed /^#/d  | cut  -f '10-' | ./a.out | cut -f '1-2'\")"
   ]
  },
  {
   "cell_type": "code",
   "execution_count": null,
   "metadata": {
    "collapsed": true
   },
   "outputs": [],
   "source": [
    "# This line will require several minute to execute because it is parsing information\n",
    "# from a large table\n",
    "x = read.table(p, colClasses=c(\"integer\",\"integer\"), fill=TRUE, row.names=NULL)"
   ]
  },
  {
   "cell_type": "code",
   "execution_count": null,
   "metadata": {
    "collapsed": true
   },
   "outputs": [],
   "source": [
    "dim( x )\n",
    "x[1:10,]"
   ]
  },
  {
   "cell_type": "code",
   "execution_count": null,
   "metadata": {
    "collapsed": true
   },
   "outputs": [],
   "source": [
    "# Convert to a sparse matrix of people (rows) x variant (columns)\n",
    "?sparseMatrix"
   ]
  },
  {
   "cell_type": "code",
   "execution_count": null,
   "metadata": {
    "collapsed": true
   },
   "outputs": [],
   "source": [
    "# Generating a sparse matrix can also take time\n",
    "chr20 = sparseMatrix(i=x[,2], j=x[,1], x=1.0)"
   ]
  },
  {
   "cell_type": "code",
   "execution_count": null,
   "metadata": {
    "collapsed": true
   },
   "outputs": [],
   "source": [
    "# Inspect the dimensions of this matrix\n",
    "print(dim(chr20))"
   ]
  },
  {
   "cell_type": "code",
   "execution_count": null,
   "metadata": {
    "collapsed": true
   },
   "outputs": [],
   "source": [
    "# Visualize a subset of the content of the matrix\n",
    "chr20[461:470,1:10]"
   ]
  },
  {
   "cell_type": "markdown",
   "metadata": {},
   "source": [
    "We’ve loaded a sparse matrix with 2,504 rows (people) by 1,812,841 columns (variants).\n",
    "\n",
    "## Compute the three principal component vectors\n",
    "The next step computes the first three principal component vectors using the irlba package and plots a 3d scatterplot using the threejs package, or a normal plot using plot() function."
   ]
  },
  {
   "cell_type": "code",
   "execution_count": null,
   "metadata": {
    "collapsed": true
   },
   "outputs": [],
   "source": [
    "?irlba"
   ]
  },
  {
   "cell_type": "code",
   "execution_count": null,
   "metadata": {
    "collapsed": true
   },
   "outputs": [],
   "source": [
    "# takes some time\n",
    "cm = colMeans(chr20)\n",
    "p = irlba(chr20, nv=3, nu=3, tol=0.1, center=cm)"
   ]
  },
  {
   "cell_type": "code",
   "execution_count": null,
   "metadata": {
    "collapsed": true
   },
   "outputs": [],
   "source": [
    "plot(x = p$u[,1], y = p$u[,2], xlab = \"PC 1\", ylab = \"PC 2\")\n",
    "plot(x = p$u[,1], y = p$u[,3], xlab = \"PC 1\", ylab = \"PC 3\")\n",
    "plot(x = p$u[,2], y = p$u[,3], xlab = \"PC 2\", ylab = \"PC 3\")"
   ]
  },
  {
   "cell_type": "code",
   "execution_count": null,
   "metadata": {
    "collapsed": true
   },
   "outputs": [],
   "source": [
    "scatterplot3js(p$u)"
   ]
  },
  {
   "cell_type": "markdown",
   "metadata": {},
   "source": [
    "The data exhibit obvious groups, and those groups correspond to different ancestries. That can be illustrated by loading ancillary data from the 1000 genomes project that identifies the “superpopulation” of each sample."
   ]
  },
  {
   "cell_type": "code",
   "execution_count": null,
   "metadata": {
    "collapsed": true
   },
   "outputs": [],
   "source": [
    "#remove those objects that are not needed anymore to avoid memory issues\n",
    "rm(baseDir)\n",
    "rm(chr20)\n",
    "rm(libSubDir)\n",
    "rm(x)"
   ]
  },
  {
   "cell_type": "code",
   "execution_count": null,
   "metadata": {
    "collapsed": true
   },
   "outputs": [],
   "source": [
    "gc()"
   ]
  },
  {
   "cell_type": "code",
   "execution_count": null,
   "metadata": {
    "collapsed": true
   },
   "outputs": [],
   "source": [
    "# Read just the header of the chromosome file to obtain the sample identifiers\n",
    "ids = readLines(pipe(\"zcat ALL.chr20.phase3_shapeit2_mvncall_integrated_v5a.20130502.genotypes.vcf.gz  | sed -n /^#CHROM/p | tr '\\t' '\\n' | tail -n +10\"))"
   ]
  },
  {
   "cell_type": "code",
   "execution_count": null,
   "metadata": {
    "collapsed": true
   },
   "outputs": [],
   "source": [
    "# Download and parse the superpopulation data for each sample, order by ids\n",
    "ped = read.table(url(\"ftp://ftp-trace.ncbi.nih.gov/1000genomes/ftp/release/20130502/integrated_call_samples.20130502.ALL.ped\"),sep=\"\\t\",header=TRUE,row.names=2)[ids,6,drop=FALSE]"
   ]
  },
  {
   "cell_type": "code",
   "execution_count": null,
   "metadata": {
    "collapsed": true
   },
   "outputs": [],
   "source": [
    "# Download the subpopulation and superpopulation codes\n",
    "# WARNING: These links occasionally change. Beware!\n",
    "pop = read.table(url(\"ftp://ftp-trace.ncbi.nih.gov/1000genomes/ftp/20131219.populations.tsv\"),sep=\"\\t\",header=TRUE)\n",
    "pop = pop[1:26,]\n",
    "super = pop[,3]\n",
    "names(super) = pop[,2]\n",
    "super = factor(super)\n",
    "# The last rows of pop are summary data or non-relevant:"
   ]
  },
  {
   "cell_type": "code",
   "execution_count": null,
   "metadata": {
    "collapsed": true
   },
   "outputs": [],
   "source": [
    "# Map sample sub-populations to super-populations\n",
    "ped$Superpopulation = super[as.character(ped$Population)]"
   ]
  },
  {
   "cell_type": "code",
   "execution_count": null,
   "metadata": {
    "collapsed": true
   },
   "outputs": [],
   "source": [
    "# Plot with colors corresponding to super populations\n",
    "N = length(levels(super))\n",
    "N\n",
    "# Interactive plot\n",
    "#scatterplot3js(p$u, col=rainbow(N)[ped$Superpopulation], size=0.5)"
   ]
  },
  {
   "cell_type": "code",
   "execution_count": null,
   "metadata": {
    "collapsed": true
   },
   "outputs": [],
   "source": [
    "# Non-interactive plot\n",
    "plot(x = p$u[,1], y = p$u[,2], col=rainbow(N)[ped$Superpopulation], xlab = \"PC 1\", ylab = \"PC 2\")\n",
    "plot(x = p$u[,1], y = p$u[,3], col=rainbow(N)[ped$Superpopulation], xlab = \"PC 1\", ylab = \"PC 3\")\n",
    "plot(x = p$u[,2], y = p$u[,3], col=rainbow(N)[ped$Superpopulation], xlab = \"PC 2\", ylab = \"PC 3\")"
   ]
  },
  {
   "cell_type": "code",
   "execution_count": null,
   "metadata": {
    "collapsed": true
   },
   "outputs": [],
   "source": [
    "Sys.time()\n",
    "sessionInfo()"
   ]
  }
 ],
 "metadata": {
  "kernelspec": {
   "display_name": "R",
   "language": "R",
   "name": "ir"
  },
  "language_info": {
   "codemirror_mode": "r",
   "file_extension": ".r",
   "mimetype": "text/x-r-source",
   "name": "R",
   "pygments_lexer": "r",
   "version": "3.3.1"
  }
 },
 "nbformat": 4,
 "nbformat_minor": 1
}
