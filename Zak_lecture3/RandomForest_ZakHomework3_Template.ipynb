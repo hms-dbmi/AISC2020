{
 "cells": [
  {
   "cell_type": "markdown",
   "metadata": {},
   "source": [
    "# Homework Assignment 3:  Random Forest Models"
   ]
  },
  {
   "cell_type": "markdown",
   "metadata": {},
   "source": [
    "### Install and Load the randomForest Package"
   ]
  },
  {
   "cell_type": "code",
   "execution_count": null,
   "metadata": {},
   "outputs": [],
   "source": [
    "install.packages(\"randomForest\")"
   ]
  },
  {
   "cell_type": "code",
   "execution_count": null,
   "metadata": {},
   "outputs": [],
   "source": [
    "library(randomForest)"
   ]
  },
  {
   "cell_type": "markdown",
   "metadata": {},
   "source": [
    "## Load and Process the Data"
   ]
  },
  {
   "cell_type": "markdown",
   "metadata": {},
   "source": [
    "Because you already learned how to replace probe IDs with gene names in Homework 1, we leave our biomarkers denoted by Probe IDs for this assignment. To support your data pre-processing, we have included very detailed comments about the steps involved."
   ]
  },
  {
   "cell_type": "markdown",
   "metadata": {},
   "source": [
    "### Load Expression Data Object"
   ]
  },
  {
   "cell_type": "code",
   "execution_count": null,
   "metadata": {},
   "outputs": [],
   "source": [
    "# Note:  you may need to modify the filepath\n",
    "# As before, our rows represent probes and columns represent patients\n",
    "# exp is our 'expression' data object\n",
    "exp <- read.csv('/home/ec2-user/SageMaker/AISC2020/Zak_lecture3/p1.expression.csv', \n",
    "                header = T, sep = ',', stringsAsFactors = FALSE)\n",
    "\n",
    "# Set rownames equal to probe IDs\n",
    "# YOUR CODE HERE\n",
    "\n",
    "# Check the exp object size and contents\n",
    "# YOUR CODE HERE"
   ]
  },
  {
   "cell_type": "code",
   "execution_count": null,
   "metadata": {},
   "outputs": [],
   "source": [
    "# Rotate your data object so that rows now represent patients and\n",
    "# columns represent features (here, probe IDs), as this is the typical set-up\n",
    "# for a machine learning pipeline.\n",
    "# Call your rotated expression data object 'exp_t'\n",
    "# YOUR CODE HERE\n",
    "\n",
    "# Convert the exp_t from a matrix to a data frame, if exp_t is not already a data frame\n",
    "# YOUR CODE HERE\n",
    "\n",
    "# Replace the \"-\" characters in the patient ID names with \".\" characters\n",
    "# This will fix a few inconsistencies in our patient ID names between the expression\n",
    "# data object and the phenotype data object that we will load next.\n",
    "# You may find the function gsub() useful for this purpose\n",
    "# YOUR CODE HERE\n",
    "\n",
    "# Check the exp_t object size and contents\n",
    "# YOUR CODE HERE"
   ]
  },
  {
   "cell_type": "markdown",
   "metadata": {},
   "source": [
    "### Load Phenotype Data Object"
   ]
  },
  {
   "cell_type": "code",
   "execution_count": null,
   "metadata": {},
   "outputs": [],
   "source": [
    "# Note:  you may need to modify the filepath\n",
    "# pheno is our 'phenotype' data object specifying for each patient whether they are\n",
    "# ASD-affected or ASD-unaffected (\"control\")\n",
    "pheno <- read.csv('/home/ec2-user/SageMaker/AISC2020/Zak_lecture3/p1.pheno.csv', \n",
    "                  header = T, sep = ',', stringsAsFactors = FALSE)\n",
    "\n",
    "# Ensure that the patient ID column is interpreted as a character vector\n",
    "# YOUR CODE HERE\n",
    "\n",
    "# Replace the \"-\" and \" \" characters in the patient ID names with \".\" characters\n",
    "# This will fix a few inconsistencies in our patient ID names between the expression\n",
    "# data object and the phenotype data object.\n",
    "# You may find the function gsub() useful for this purpose\n",
    "# YOUR CODE HERE\n",
    "\n",
    "# Examine the size and content of the 'pheno' data object\n",
    "# YOUR CODE HERE"
   ]
  },
  {
   "cell_type": "markdown",
   "metadata": {},
   "source": [
    "### Add the patient diagnoses to the data table of features"
   ]
  },
  {
   "cell_type": "code",
   "execution_count": null,
   "metadata": {},
   "outputs": [],
   "source": [
    "# Add a column for ASD diagnosis to exp_t, with the column name 'Dx'\n",
    "# You can find this information in the 'pheno' data object, and your\n",
    "# link between rows in 'exp_t' and rows in 'pheno' is the patient ID name\n",
    "# YOUR CODE HERE\n",
    "\n",
    "# Examine how many patients belong to each diagnosis category\n",
    "# You may find the function table() useful for this purpose\n",
    "# YOUR CODE HERE\n"
   ]
  },
  {
   "cell_type": "markdown",
   "metadata": {},
   "source": [
    "##  Split data into training and testing cohorts"
   ]
  },
  {
   "cell_type": "markdown",
   "metadata": {},
   "source": [
    "After the processing steps above, we have one data object called \"exp_t\" that contains patients along the rows and probes along the columns, plus one column called 'Dx' that specifies our outcome of interest:  whether or not the patient is ASD-affected.  \n",
    "\n",
    "Now, you need to split this object into a training cohort containing 80% of the patients and a testing cohort containing 20% of the patients.  The patients should be allocated into these two groups at random, where all patients have an equal chance of ending up in the training group.\n",
    "\n",
    "In general, it is also important to have a relatively similar ratio of ASD-affected : ASD-unaffected patients in our training cohort and our test cohort.  The number does not need to be exactly the same.  So, you could either:\n",
    "\n",
    "1. Split patients into training and testing cohorts at random without regard to their Dx, then check this ratio and try new randomizations until you have a relatively similar ratio in both cohorts, or\n",
    "2. First split the patients into ASD-affected and ASD-unaffected groups, then take 80% of the ASD-affected patients and 80% of the ASD-unaffected patients and join them into a training cohort, and allocate the remaining 20% of the ASD-affected patients and 20% of the ASD-unaffected patients into a testing cohort.\n",
    "\n",
    "Hint:  There are many methods you could use to achieve this cohort split.  If you're looking for a place to start, try the \"sample()\" function."
   ]
  },
  {
   "cell_type": "code",
   "execution_count": null,
   "metadata": {},
   "outputs": [],
   "source": [
    "# YOUR CODE HERE"
   ]
  },
  {
   "cell_type": "markdown",
   "metadata": {},
   "source": [
    "# Random Forest Model"
   ]
  },
  {
   "cell_type": "markdown",
   "metadata": {},
   "source": [
    "Use the randomForest package to make a Random Forest model based on your data.  Here are a few hints to help you accomplish this:\n",
    "\n",
    "1. Make sure your training cohort is a data.frame object where patients are represented as rows and your columns all represent probes--and are labeled with their probe IDs--except for one column containing the desired outcome variable we want our model to predict, titled \"Dx\".\n",
    "2. Our model will not like feature names that only contain numbers.  To correct for this, you can add a few characters to each of your feature names.  For example, instead of our first feature being called \"7896744\", you can change its title to \"Probe7896744\".  You may find the function paste() useful for this task.\n",
    "3. Train your model using the randomForest() function.  You will need to provide the name of your training data object as the value for the \"data\" paramter.  You will also need to specify the \"formula\" for the model.  In this case, we want the model to use information from all non-Dx columns to predict the value of the Dx column.  You can use the character \".\" to represent \"all non-Dx columns\" in your formula, like:  Dx ~ .\n",
    "4. Print your resulting model object to get basic information about the model you built."
   ]
  },
  {
   "cell_type": "code",
   "execution_count": null,
   "metadata": {},
   "outputs": [],
   "source": [
    "# YOUR CODE HERE"
   ]
  },
  {
   "cell_type": "markdown",
   "metadata": {},
   "source": [
    "## Determine Training Accuracy and Testing Accuracy"
   ]
  },
  {
   "cell_type": "markdown",
   "metadata": {},
   "source": [
    "With the function predict(), ask the model you just developed to make predictions for 1) all patients in your training cohort, and 2) all patients in your testing cohort.  Compare the predictions against the true diagnosis status for these patients to determine training performance and testing performance."
   ]
  },
  {
   "cell_type": "code",
   "execution_count": null,
   "metadata": {},
   "outputs": [],
   "source": [
    "# YOUR CODE HERE"
   ]
  }
 ],
 "metadata": {
  "kernelspec": {
   "display_name": "R",
   "language": "R",
   "name": "ir"
  },
  "language_info": {
   "codemirror_mode": "r",
   "file_extension": ".r",
   "mimetype": "text/x-r-source",
   "name": "R",
   "pygments_lexer": "r",
   "version": "3.6.1"
  }
 },
 "nbformat": 4,
 "nbformat_minor": 2
}
