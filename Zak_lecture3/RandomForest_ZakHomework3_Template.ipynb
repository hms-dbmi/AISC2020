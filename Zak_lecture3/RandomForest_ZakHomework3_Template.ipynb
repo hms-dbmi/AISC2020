{
 "cells": [
  {
   "cell_type": "markdown",
   "metadata": {},
   "source": [
    "# Homework Assignment 3:  Random Forest Models"
   ]
  },
  {
   "cell_type": "markdown",
   "metadata": {},
   "source": [
    "### Install and Load the randomForest Package"
   ]
  },
  {
   "cell_type": "code",
   "execution_count": null,
   "metadata": {},
   "outputs": [],
   "source": [
    "install.packages(\"randomForest\")\n",
    "library(randomForest)"
   ]
  },
  {
   "cell_type": "markdown",
   "metadata": {},
   "source": [
    "## Load and Process the Data"
   ]
  },
  {
   "cell_type": "markdown",
   "metadata": {},
   "source": [
    "Because you already learned how to pre-process this data object in Homework 1, we will do the pre-processing for you in this assignment.  We will also leave our biomarkers denoted by Probe IDs, although you know from assignment 1 how to convert these into gene names."
   ]
  },
  {
   "cell_type": "markdown",
   "metadata": {},
   "source": [
    "### Load Expression Data Object"
   ]
  },
  {
   "cell_type": "code",
   "execution_count": null,
   "metadata": {},
   "outputs": [],
   "source": [
    "# Note:  you may need to modify the filepath\n",
    "# As before, our rows represent probes and columns represent patients\n",
    "# exp is our 'expression' data object\n",
    "exp <- read.csv('p1.expression.csv', \n",
    "                header = T, \n",
    "                sep = ',', \n",
    "                stringsAsFactors = FALSE)\n",
    "\n",
    "# Set rownames equal to probe IDs\n",
    "\n",
    "\n",
    "# Check object size and contents\n"
   ]
  },
  {
   "cell_type": "code",
   "execution_count": null,
   "metadata": {},
   "outputs": [],
   "source": [
    "# We rotate our data object so that rows now represent patients and\n",
    "# columns represent features (here, probe IDs), as this is the typical set-up\n",
    "# for a machine learning pipeline\n",
    "\n",
    "# exp_t is our rotated expression data object\n",
    "\n",
    "# We convert the exp_t matrix to a data frame\n",
    "\n",
    "# We replace the \"-\" characters in our patient ID names with \".\" characters\n",
    "# to fix a few inconsistencies in our patient ID labels between the expression\n",
    "# data object and the phenotype data object that we will load next\n",
    "# HINT: To replace characters you can use \"gsub\" function\n",
    "\n",
    "# Check object size and contents\n"
   ]
  },
  {
   "cell_type": "markdown",
   "metadata": {},
   "source": [
    "### Load Phenotype Data Object"
   ]
  },
  {
   "cell_type": "code",
   "execution_count": null,
   "metadata": {},
   "outputs": [],
   "source": [
    "# Note:  you may need to modify the filepath\n",
    "# pheno is our 'phenotype' data object specifying for each patient whether they are\n",
    "# ASD-affected or ASD-unaffected (\"control\")\n",
    "pheno <- read.csv('p1.pheno.csv', \n",
    "                   header = T, \n",
    "                   sep = ',', \n",
    "                   stringsAsFactors = FALSE)\n",
    "\n",
    "# We ensure that our patient ID column is interpreted as a character vector\n",
    "\n",
    "\n",
    "# We replace the \"-\" and \" \" markers in our patient ID names with \".\" characters\n",
    "# to fix a few inconsistencies in our patient ID labels between the expression\n",
    "# data object and the phenotype data object \n",
    "\n",
    "# Examine size and content of this object\n"
   ]
  },
  {
   "cell_type": "markdown",
   "metadata": {},
   "source": [
    "### Add the patient diagnoses to the data table of features"
   ]
  },
  {
   "cell_type": "code",
   "execution_count": null,
   "metadata": {},
   "outputs": [],
   "source": [
    "# Add a column for diagnosis to our expression data table\n",
    "\n",
    "# Remove column with patient ID names\n",
    "\n",
    "# Examine how many patients belong to each category\n"
   ]
  },
  {
   "cell_type": "markdown",
   "metadata": {},
   "source": [
    "##  Split data into training and testing cohorts"
   ]
  },
  {
   "cell_type": "markdown",
   "metadata": {},
   "source": [
    "After the processing steps above, we have one data object called \"exp_t\" that contains patients along the rows and probes along the columns, plus one column called 'Dx' that specifies our outcome of interest:  whether or not the patient is ASD-affected.  \n",
    "\n",
    "Now, you need to split this object into a training cohort containing 80% of the patients and a testing cohort containing 20% of the patients.  The patients should be allocated into these two groups at random, where all patients have an equal chance of ending up in the training group.\n",
    "\n",
    "In general, it is also important to have a relatively similar ratio of ASD-affected : ASD-unaffected patients in our training cohort and our test cohort.  The number does not need to be exactly the same.  So, you could either:\n",
    "\n",
    "1. Split patients into training and testing cohorts at random without regard to their Dx, then check this ratio and try new randomizations until you have a relatively similar ratio in both cohorts, or\n",
    "2. First split the patients into ASD-affected and ASD-unaffected groups, then take 80% of the ASD-affected patients and 80% of the ASD-unaffected patients and join them into a training cohort, and allocate the remaining 20% of the ASD-affected patients and 20% of the ASD-unaffected patients into a testing cohort.\n",
    "\n",
    "Hint:  There are many methods you could use to achieve this cohort split.  If you're looking for a place to start, try the \"sample()\" function."
   ]
  },
  {
   "cell_type": "code",
   "execution_count": null,
   "metadata": {},
   "outputs": [],
   "source": [
    "# YOUR CODE HERE"
   ]
  },
  {
   "cell_type": "markdown",
   "metadata": {},
   "source": [
    "# Random Forest Model"
   ]
  },
  {
   "cell_type": "markdown",
   "metadata": {},
   "source": [
    "Use the randomForest package to make a Random Forest model based on your data.  Here are a few hints to help you accomplish this:\n",
    "\n",
    "1. Make sure your training cohort is a data.frame object where patients are represented as rows and your columns all represent probes--and are labeled with their probe IDs--except for one column containing the desired outcome variable we want our model to predict, titled \"Dx\".\n",
    "2. Our model will not like feature names that only contain numbers.  To correct for this, you can add a few characters to each of your feature names.  For example, instead of our first feature being called \"7896744\", you can change its title to \"Probe7896744\".  You may find the function paste() useful for this task.\n",
    "3. Train your model using the randomForest() function.  You will need to provide the name of your training data object as the value for the \"data\" paramter.  You will also need to specify the \"formula\" for the model.  In this case, we want the model to use information from all non-Dx columns to predict the value of the Dx column.  You can use the character \".\" to represent \"all non-Dx columns\" in your formula, like:  Dx ~ .\n",
    "4. Print your resulting model object to get basic information about the model you built."
   ]
  },
  {
   "cell_type": "code",
   "execution_count": null,
   "metadata": {},
   "outputs": [],
   "source": [
    "# YOUR CODE HERE"
   ]
  },
  {
   "cell_type": "markdown",
   "metadata": {},
   "source": [
    "## Determine Training Accuracy and Testing Accuracy"
   ]
  },
  {
   "cell_type": "markdown",
   "metadata": {},
   "source": [
    "With the function predict(), ask the model you just developed to make predictions for 1) all patients in your training cohort, and 2) all patients in your testing cohort.  Compare the predictions against the true diagnosis status for these patients to determine training performance and testing performance."
   ]
  },
  {
   "cell_type": "code",
   "execution_count": null,
   "metadata": {},
   "outputs": [],
   "source": [
    "# YOUR CODE HERE"
   ]
  }
 ],
 "metadata": {
  "kernelspec": {
   "display_name": "R",
   "language": "R",
   "name": "ir"
  },
  "language_info": {
   "codemirror_mode": "r",
   "file_extension": ".r",
   "mimetype": "text/x-r-source",
   "name": "R",
   "pygments_lexer": "r",
   "version": "3.6.1"
  }
 },
 "nbformat": 4,
 "nbformat_minor": 2
}
