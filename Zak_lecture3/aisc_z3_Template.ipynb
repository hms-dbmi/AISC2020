{
 "cells": [
  {
   "cell_type": "markdown",
   "metadata": {},
   "source": [
    "# In-Class Assignment"
   ]
  },
  {
   "cell_type": "markdown",
   "metadata": {},
   "source": [
    "In this in-class assignment, you will be using a gene expression array dataset (gep.80samples.csv) from a cohort including patients with autism spectrum disorder (ASD) and their controls. You will start from establishing a set of differentially expressed genes between the patients and the controls using t-tests. From this gene set, you will be able to perform a Gene Ontology (GO) analysis to see if any GO terms are overrepresented in the gene set. Next, you will order all human genes from the most upregulated to the most downregulated genes in ASD patients compared to controls (you will use t-statistics for this purpose). Then, you can use gene set enrichment analysis (GSEA) to see whether any predefined set of genes (e.g., KEGG pathway genes) are enriched in upregulated or downregulated genes in ASD patients."
   ]
  },
  {
   "cell_type": "markdown",
   "metadata": {},
   "source": [
    "# Part 1. Differential gene expression analysis"
   ]
  },
  {
   "cell_type": "markdown",
   "metadata": {},
   "source": [
    "In this section, you will use a gene expression array dataset [1] and compare gene expression levels between the patient and the control groups. Based on this comparison, you will list up differentially expressed genes with statistical significance.\n",
    "\n",
    "[1] https://github.com/hms-dbmi/AISC2020/tree/master/Zak_lecture3\n",
    "\n",
    "### 1a. Read the dataset"
   ]
  },
  {
   "cell_type": "code",
   "execution_count": null,
   "metadata": {},
   "outputs": [],
   "source": [
    "# Read the array dataset file from above github URL. \n",
    "# Check.names = FALSE is helpful to avoid unnecessary, automatic changes in column names when they are numeric.\n",
    "df <- read.csv(file = \"copy_and_paste_the_file_location\", header=T, as.is=T, sep=\",\", check.names=FALSE, dec=\".\")"
   ]
  },
  {
   "cell_type": "code",
   "execution_count": null,
   "metadata": {},
   "outputs": [],
   "source": [
    "# Check how large is the dataset. You can use any functions including dim(), nrow(), ncol(), etc."
   ]
  },
  {
   "cell_type": "code",
   "execution_count": null,
   "metadata": {},
   "outputs": [],
   "source": [
    "# Below, you can see the first 10 columns and the first 10 rows. This way you can see an abstract structure of df.\n",
    "df[c(1:10),c(1:10)]"
   ]
  },
  {
   "cell_type": "markdown",
   "metadata": {},
   "source": [
    "### 1b. T-test comparisons for all genes between ASD and control groups."
   ]
  },
  {
   "cell_type": "code",
   "execution_count": null,
   "metadata": {},
   "outputs": [],
   "source": [
    "# Check how many patients and controls are in this dataset. You can use table() function.\n",
    "# How many genes (probe IDs) do we have in this array dataset?"
   ]
  },
  {
   "cell_type": "code",
   "execution_count": null,
   "metadata": {},
   "outputs": [],
   "source": [
    "# Let's compare the expression of \"7896744\" (in 6th column of this dataset) between ASD patients and controls.\n",
    "# We will be performing t-test, using t.test() function. You see the detail of this function using below command.\n",
    "?t.test"
   ]
  },
  {
   "cell_type": "code",
   "execution_count": null,
   "metadata": {},
   "outputs": [],
   "source": [
    "# The most straightforward comparison could be done in this way:\n",
    "t.test(df[,\"7896744\"][which(df$Dx == \"ASD\")], df[,\"7896744\"][which(df$Dx == \"Control\")])\n",
    "# You can always substitute the column name (\"7896744\") into number: df[,6]"
   ]
  },
  {
   "cell_type": "code",
   "execution_count": null,
   "metadata": {},
   "outputs": [],
   "source": [
    "# Another way to do it is as follows:\n",
    "t.test(df[,6] ~ df$Dx)"
   ]
  },
  {
   "cell_type": "code",
   "execution_count": null,
   "metadata": {},
   "outputs": [],
   "source": [
    "# We can retrieve specific values by using Dollar signs as follows:\n",
    "t.test(df[,\"7896744\"][which(df$Dx == \"ASD\")], df[,\"7896744\"][which(df$Dx == \"Control\")])$p.value\n",
    "t.test(df[,\"7896744\"][which(df$Dx == \"ASD\")], df[,\"7896744\"][which(df$Dx == \"Control\")])$statistic"
   ]
  },
  {
   "cell_type": "markdown",
   "metadata": {},
   "source": [
    "### 1c. One way to do this is using \"for loop\"."
   ]
  },
  {
   "cell_type": "code",
   "execution_count": null,
   "metadata": {},
   "outputs": [],
   "source": [
    "# We will iteratively perform t-test from column 6 to the last column, between the ASD patients and the controls.\n",
    "# You can make a list of p-values from your for loop."
   ]
  },
  {
   "cell_type": "code",
   "execution_count": null,
   "metadata": {},
   "outputs": [],
   "source": [
    "# Name these p-values with their corresponding probe IDs (they are the column names of our df)."
   ]
  },
  {
   "cell_type": "markdown",
   "metadata": {
    "collapsed": true
   },
   "source": [
    "### 1d. Another way is using \"apply()\" function"
   ]
  },
  {
   "cell_type": "code",
   "execution_count": null,
   "metadata": {},
   "outputs": [],
   "source": [
    "# Let's check the options of this function.\n",
    "?apply"
   ]
  },
  {
   "cell_type": "markdown",
   "metadata": {},
   "source": [
    "### 1e. Differentially expressed genes"
   ]
  },
  {
   "cell_type": "code",
   "execution_count": null,
   "metadata": {},
   "outputs": [],
   "source": [
    "# How many genes have statistical significance (e.g., p-value < 0.05) in our list?"
   ]
  },
  {
   "cell_type": "code",
   "execution_count": null,
   "metadata": {},
   "outputs": [],
   "source": [
    "# Make histograms to see the distribution of gene expression levels, \n",
    "# for any genes, i) with statistical significance, and ii) without it."
   ]
  },
  {
   "cell_type": "markdown",
   "metadata": {},
   "source": [
    "# Part 2. Gene Ontology Analysis (Using TopGO Package)"
   ]
  },
  {
   "cell_type": "markdown",
   "metadata": {},
   "source": [
    "There are many R packages to perform Gene Ontology analysis. TopGO is one of them. Our aim here is to make a realistic sense of how the flow works. To achieve this, we will provide our codes to perform GO analysis (same for the next part: Part 3. GSEA analysis). By using \"?\" function and google, you can always find out what each step is doing, and how we could interpret the results. Make modifications of provided functions will also provide you insight. Details of TopGO package are described in below link.\n",
    "\n",
    "https://www.bioconductor.org/packages/devel/bioc/vignettes/topGO/inst/doc/topGO.pdf"
   ]
  },
  {
   "cell_type": "code",
   "execution_count": null,
   "metadata": {},
   "outputs": [],
   "source": [
    "sessionInfo()"
   ]
  },
  {
   "cell_type": "code",
   "execution_count": null,
   "metadata": {},
   "outputs": [],
   "source": [
    "if (!requireNamespace(\"BiocManager\", quietly = TRUE))\n",
    "    install.packages(\"BiocManager\")\n",
    "BiocManager::install(\"topGo\")\n",
    "BiocManager::install(\"annotate\")\n",
    "BiocManager::install(\"hugene10sttranscriptcluster.db\")\n",
    "BiocManager::install(\"org.Hs.eg.db\")"
   ]
  },
  {
   "cell_type": "code",
   "execution_count": null,
   "metadata": {},
   "outputs": [],
   "source": [
    "library(topGO)\n",
    "library(annotate)\n",
    "library(hugene10sttranscriptcluster.db)\n",
    "library(org.Hs.eg.db)"
   ]
  },
  {
   "cell_type": "markdown",
   "metadata": {},
   "source": [
    "### 2a. Make a function to subset all genes to those with a p values < 0.05"
   ]
  },
  {
   "cell_type": "code",
   "execution_count": null,
   "metadata": {},
   "outputs": [],
   "source": [
    "df <- read.csv(file = \"https://github.com/hms-dbmi/AISC2020/raw/master/Zak_lecture3/gep.80samples.csv\", header=T, as.is=T, sep=\",\", check.names=FALSE, dec=\".\")\n",
    "list.pval = NULL\n",
    "for (i in 6:ncol(df)){\n",
    "    list.pval[i-5] = t.test(df[,i][df$Dx==\"ASD\"], df[,i][df$Dx==\"Control\"])$p.value\n",
    "}\n",
    "list.genes = list.pval\n",
    "names(list.genes) = colnames(df)[6:ncol(df)]\n",
    "head(list.genes)"
   ]
  },
  {
   "cell_type": "code",
   "execution_count": null,
   "metadata": {},
   "outputs": [],
   "source": [
    "topGenes = function(x){\n",
    "    return(x < 0.05)\n",
    "}\n",
    "\n",
    "sig.genes = list.genes[topGenes(list.genes)]\n",
    "length(sig.genes)\n",
    "head(sig.genes)"
   ]
  },
  {
   "cell_type": "markdown",
   "metadata": {},
   "source": [
    "### 2b. Create a TopGO object"
   ]
  },
  {
   "cell_type": "code",
   "execution_count": null,
   "metadata": {},
   "outputs": [],
   "source": [
    "sampleGOdata <- new(\"topGOdata\", \n",
    "                    description = \"Simple session\", ontology = \"BP\",\n",
    "                    allGenes = list.genes, geneSelectionFun = topGenes,\n",
    "                    nodeSize = 2,\n",
    "                    annot = annFUN.db, affyLib = \"hugene10sttranscriptcluster.db\")"
   ]
  },
  {
   "cell_type": "code",
   "execution_count": null,
   "metadata": {},
   "outputs": [],
   "source": [
    "# inspect created object\n",
    "class(sampleGOdata)\n",
    "sampleGOdata"
   ]
  },
  {
   "cell_type": "markdown",
   "metadata": {},
   "source": [
    "### 2c. Run GO analysis and filter the result"
   ]
  },
  {
   "cell_type": "code",
   "execution_count": null,
   "metadata": {},
   "outputs": [],
   "source": [
    "# run gene ontology enrichment analysis\n",
    "resultFisher <- runTest(sampleGOdata, statistic = \"fisher\")\n",
    "# create result table with all enriched biological processes (BPs)\n",
    "allRes <- GenTable(sampleGOdata, classicFisher = resultFisher, \n",
    "                   orderBy = \"classicFisher\", ranksOf = \"classicFisher\", \n",
    "                   topNodes = length(resultFisher@score))"
   ]
  },
  {
   "cell_type": "code",
   "execution_count": null,
   "metadata": {},
   "outputs": [],
   "source": [
    "# subset to BPs with a p value < 0.05 (BP stands for \"Biological Process\")\n",
    "result = allRes[which(allRes$classicFisher<0.05),]\n",
    "str(result)\n",
    "# print first BPs\n",
    "head(result)\n",
    "# print last BPs\n",
    "tail(result)"
   ]
  },
  {
   "cell_type": "markdown",
   "metadata": {},
   "source": [
    "# Part 3. Gene Set Enrichment Analysis (Using fgsea Package)"
   ]
  },
  {
   "cell_type": "markdown",
   "metadata": {},
   "source": [
    "We will be using fgsea package to perform a GSEA analysis. Based on t-statistics, you can sort the genes from the one most highly expressed in the ASD patients compared to the controls, to the one that is expressed much lower in the patients compared to the control group. Then, you can use the ordered gene list to see which pathway genes are significantly enriched among those polarized genes. We will be using KEGG (Kyoto Encyclopedia of Genes and Genomes) pathway gene sets, to define the pathways for GSEA analysis. Details of FGSEA package is available in below link.\n",
    "\n",
    "https://bioconductor.org/packages/release/bioc/vignettes/fgsea/inst/doc/fgsea-tutorial.html"
   ]
  },
  {
   "cell_type": "code",
   "execution_count": null,
   "metadata": {},
   "outputs": [],
   "source": [
    "BiocManager::install(\"fgsea\")\n",
    "library(devtools)\n",
    "library(fgsea)"
   ]
  },
  {
   "cell_type": "code",
   "execution_count": null,
   "metadata": {},
   "outputs": [],
   "source": [
    "install.packages(\"aws.s3\",\n",
    "repos=c(\"cloudyr\" = \"http://cloudyr.github.io/drat\"))\n",
    "library(\"aws.s3\")\n",
    "# Set environmental variables\n",
    "Sys.setenv(\"AWS_ACCESS_KEY_ID\" = \"XXXX\",\n",
    "\"AWS_SECRET_ACCESS_KEY\" = \"XXXXX\")\n",
    "# Retrieve data\n",
    "s3load(\"KEGGannot.RData\", bucket =\"dbmi-cumc\")\n",
    "s3load(\"GOannot.RData\", bucket =\"dbmi-cumc\")"
   ]
  },
  {
   "cell_type": "code",
   "execution_count": null,
   "metadata": {},
   "outputs": [],
   "source": [
    "# Load the KEGG pathway dataset and see what is in there.\n",
    "ls()\n",
    "keggpathways[1:10]"
   ]
  },
  {
   "cell_type": "markdown",
   "metadata": {},
   "source": [
    "### 3a. Order genes based on t-statistics (ASD vs Control)"
   ]
  },
  {
   "cell_type": "code",
   "execution_count": null,
   "metadata": {},
   "outputs": [],
   "source": [
    "# Remind how we called t-statistics in our differential gene expression analysis.\n",
    "i = 6\n",
    "t.test(df[,i][df$Dx==\"ASD\"], df[,i][df$Dx==\"Control\"])$statistic[[1]]"
   ]
  },
  {
   "cell_type": "code",
   "execution_count": null,
   "metadata": {},
   "outputs": [],
   "source": [
    "list.tstat = NULL\n",
    "for(i in 6:ncol(df)){\n",
    "    list.tstat[i-5] <- t.test(df[,i][df$Dx==\"ASD\"], df[,i][df$Dx==\"Control\"])$statistic[[1]]\n",
    "}\n",
    "head(list.tstat)"
   ]
  },
  {
   "cell_type": "code",
   "execution_count": null,
   "metadata": {},
   "outputs": [],
   "source": [
    "gsea.genes = list.tstat\n",
    "names(gsea.genes) = colnames(df)[6:ncol(df)]\n",
    "head(gsea.genes)\n",
    "length(gsea.genes)"
   ]
  },
  {
   "cell_type": "code",
   "execution_count": null,
   "metadata": {},
   "outputs": [],
   "source": [
    "ordered.genes <- sort(gsea.genes, decreasing = T)\n",
    "head(ordered.genes)"
   ]
  },
  {
   "cell_type": "markdown",
   "metadata": {},
   "source": [
    "### 3b. Creat fgsea object and run GSEA"
   ]
  },
  {
   "cell_type": "code",
   "execution_count": null,
   "metadata": {},
   "outputs": [],
   "source": [
    "# using the sorted information, peform the gene set enrichment analysis\n",
    "fgseaRes <- fgsea(pathways = keggpathways, stats = ordered.genes, minSize=15, maxSize=500, nperm=1000)"
   ]
  },
  {
   "cell_type": "code",
   "execution_count": null,
   "metadata": {},
   "outputs": [],
   "source": [
    "# check the result based on the p-value\n",
    "head(fgseaRes[order(pval),])\n",
    "fgseaRes[fgseaRes$padj < 0.05,][order(pval),]\n",
    "nrow(fgseaRes[fgseaRes$padj < 0.05,][order(pval),])"
   ]
  },
  {
   "cell_type": "markdown",
   "metadata": {},
   "source": [
    "### 3c. GSEA plots for significantly enriched genes"
   ]
  },
  {
   "cell_type": "code",
   "execution_count": null,
   "metadata": {},
   "outputs": [],
   "source": [
    "# plot enrichment of genes in the pathway of interest\n",
    "par(mfrow = c(2,1))\n",
    "plotEnrichment(keggpathways[[\"04010_MAPK signaling pathway\"]], ordered.genes)\n",
    "plotEnrichment(keggpathways[[\"04810_Regulation of actin cytoskeleton\"]], ordered.genes)"
   ]
  },
  {
   "cell_type": "code",
   "execution_count": null,
   "metadata": {},
   "outputs": [],
   "source": [
    "sessionInfo()"
   ]
  }
 ],
 "metadata": {
  "kernelspec": {
   "display_name": "R",
   "language": "R",
   "name": "ir"
  },
  "language_info": {
   "codemirror_mode": "r",
   "file_extension": ".r",
   "mimetype": "text/x-r-source",
   "name": "R",
   "pygments_lexer": "r",
   "version": "3.6.1"
  }
 },
 "nbformat": 4,
 "nbformat_minor": 1
}
