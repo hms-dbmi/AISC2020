{
 "cells": [
  {
   "cell_type": "markdown",
   "metadata": {},
   "source": [
    "# Decision Analysis\n",
    "HMS AISC Computationally Enabled Medicine\n",
    "\n",
    "March 9th, 2020\n",
    "\n",
    "\n",
    "### References\n",
    "[1] Prenatal Diagnosis: A Directive Approach to Genetic Counseling Using Decision\n",
    "Analysis – https://www.ncbi.nlm.nih.gov/pmc/articles/PMC2595426/"
   ]
  },
  {
   "cell_type": "markdown",
   "metadata": {},
   "source": [
    "# In-class Assignment\n",
    "Today we will code a decision analysis function for a medical procedure using the framework presented in Pauker and Pauker [1]. This paper shows how we can use decision analysis to help prospective parents in their decision concerning mid-trimester amniocentesis."
   ]
  },
  {
   "cell_type": "markdown",
   "metadata": {},
   "source": [
    "# 1) Get the formula\n",
    "Browse the paper and get the formula to calculate threshold probabilities."
   ]
  },
  {
   "cell_type": "code",
   "execution_count": null,
   "metadata": {},
   "outputs": [],
   "source": []
  },
  {
   "cell_type": "markdown",
   "metadata": {},
   "source": [
    "# 2) Create an R function to estimate threshold probabilities\n",
    "Now in the Jupyter notebook, write a function to calculate threshold probabilities. To help you\n",
    "with this task, here is a description of the variables that will be passed to the function:\n",
    "- r = risk of amniocentesis (values range from [0,1] )\n",
    "- n = false negative rate (values range from [0,1] )\n",
    "- p = false positive rate (values range from [0,1] )\n",
    "- CS = cost of a spontaneous abortion\n",
    "- CA = cost of an affected child\n",
    "- CTA = cost of a therapeutic abortion of an affected fetus\n",
    "- CTU = cost of a therapeutic abortion of an unaffected fetus\n",
    "- d = risk of disease\n",
    "\n",
    "Notice that: r, n and p values range from [0,1]\n",
    "\n",
    "Notice that: CS, CA, CTA, CTU should be on the same scale, eg: [0,100]"
   ]
  },
  {
   "cell_type": "code",
   "execution_count": null,
   "metadata": {},
   "outputs": [],
   "source": [
    "# R function called thresholdProb\n",
    "# inputs: r,n,p,CS,CA,CTA,CTU\n",
    "# outputs: T (the threshold probability)\n",
    "\n",
    "thresholdProb <- function() {\n",
    "    \n",
    "    # formula to calculate T\n",
    "    \n",
    "    # return T\n",
    "    \n",
    "}"
   ]
  },
  {
   "cell_type": "markdown",
   "metadata": {},
   "source": [
    "# 3) Create an R function to help to make a decision\n",
    "Write an R function that helps one make a decision according to the threshold probability and the risk of having an affected child.\n",
    "\n",
    "Hint: the function should tell you if the risk of having an affected child is higher, lower or equal to the threshold probability."
   ]
  },
  {
   "cell_type": "code",
   "execution_count": null,
   "metadata": {},
   "outputs": [],
   "source": [
    "# R function called thresholdProbDec\n",
    "# inputs: r,n,p,CS,CA,CTA,CTU,d\n",
    "# outputs: T (the threshold probability), decision (in text)\n",
    "\n",
    "thresholdProbDec <- function() {\n",
    "    \n",
    "    # formula to calculate T\n",
    "    \n",
    "    # formula to calcualte decision\n",
    "    \n",
    "    # return T\n",
    "    \n",
    "    # return decision\n",
    "    \n",
    "    \n",
    "}"
   ]
  },
  {
   "cell_type": "code",
   "execution_count": null,
   "metadata": {},
   "outputs": [],
   "source": [
    "# test that the function runs by using fake values for the input\n",
    "\n",
    "thresholdProbDec( r = ,\n",
    "                  n = , \n",
    "                  p = ,\n",
    "                  CS = , \n",
    "                  CA = , \n",
    "                  CTA = , \n",
    "                  CTU = ,\n",
    "                  d = )"
   ]
  },
  {
   "cell_type": "markdown",
   "metadata": {},
   "source": [
    "# 4) Apply the previous functions\n",
    "Use the functions you defined in the previous steps to calculate the threshold probabilities and take decisions (you need to write down if you want to encourage a couple to have amniocentesis / encourage a couple to decline amniocentesis) using the parameters presented in the paper. You need to do this for the following cases (described in the paper):\n",
    "- Down's Syndrome,\n",
    "- Meningomyelocele (assuming a false positive rate of 0.01),\n",
    "- Meningomyelocele (assuming a false positive rate of 0.05),\n",
    "- Duchenne Muscular Dystrophy."
   ]
  },
  {
   "cell_type": "markdown",
   "metadata": {},
   "source": [
    "## Down's Syndrome"
   ]
  },
  {
   "cell_type": "code",
   "execution_count": null,
   "metadata": {},
   "outputs": [],
   "source": [
    "# call function for Down's Syndrome\n",
    "thresholdProbDec( r = ,\n",
    "                  n = , \n",
    "                  p = ,\n",
    "                  CS = , \n",
    "                  CA = , \n",
    "                  CTA = , \n",
    "                  CTU = ,\n",
    "                  d = )"
   ]
  },
  {
   "cell_type": "code",
   "execution_count": null,
   "metadata": {},
   "outputs": [],
   "source": [
    "# comment on decision here\n"
   ]
  },
  {
   "cell_type": "markdown",
   "metadata": {},
   "source": [
    "##  Meningomyelocele (assuming a false positive rate of 0.01)"
   ]
  },
  {
   "cell_type": "code",
   "execution_count": null,
   "metadata": {},
   "outputs": [],
   "source": [
    "# call function for Meningomyelocele\n",
    "thresholdProbDec( r = ,\n",
    "                  n = , \n",
    "                  p = ,\n",
    "                  CS = , \n",
    "                  CA = , \n",
    "                  CTA = , \n",
    "                  CTU = ,\n",
    "                  d = )"
   ]
  },
  {
   "cell_type": "code",
   "execution_count": null,
   "metadata": {},
   "outputs": [],
   "source": [
    "# comment on decision here\n"
   ]
  },
  {
   "cell_type": "markdown",
   "metadata": {},
   "source": [
    "## Meningomyelocele (assuming a false positive rate of 0.05)"
   ]
  },
  {
   "cell_type": "code",
   "execution_count": null,
   "metadata": {},
   "outputs": [],
   "source": [
    "# call function for Meningomyelocele\n",
    "thresholdProbDec( r = ,\n",
    "                  n = , \n",
    "                  p = ,\n",
    "                  CS = , \n",
    "                  CA = , \n",
    "                  CTA = , \n",
    "                  CTU = ,\n",
    "                  d = )"
   ]
  },
  {
   "cell_type": "code",
   "execution_count": null,
   "metadata": {},
   "outputs": [],
   "source": [
    "# comment on decision here\n"
   ]
  },
  {
   "cell_type": "markdown",
   "metadata": {},
   "source": [
    "## Duchenne Muscular Dystrophy"
   ]
  },
  {
   "cell_type": "code",
   "execution_count": null,
   "metadata": {},
   "outputs": [],
   "source": [
    "# call function for Muscular Dystrophy\n",
    "thresholdProbDec( r = ,\n",
    "                  n = , \n",
    "                  p = ,\n",
    "                  CS = , \n",
    "                  CA = , \n",
    "                  CTA = , \n",
    "                  CTU = ,\n",
    "                  d = )"
   ]
  },
  {
   "cell_type": "code",
   "execution_count": null,
   "metadata": {},
   "outputs": [],
   "source": [
    "# comment on decision here\n"
   ]
  }
 ],
 "metadata": {
  "kernelspec": {
   "display_name": "R",
   "language": "R",
   "name": "ir"
  },
  "language_info": {
   "codemirror_mode": "r",
   "file_extension": ".r",
   "mimetype": "text/x-r-source",
   "name": "R",
   "pygments_lexer": "r",
   "version": "3.6.1"
  }
 },
 "nbformat": 4,
 "nbformat_minor": 4
}
